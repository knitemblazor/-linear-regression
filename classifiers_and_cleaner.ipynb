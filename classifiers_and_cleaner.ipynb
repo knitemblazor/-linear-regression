{
  "nbformat": 4,
  "nbformat_minor": 0,
  "metadata": {
    "colab": {
      "name": "classifiers and cleaner.ipynb",
      "provenance": []
    },
    "kernelspec": {
      "name": "python3",
      "display_name": "Python 3"
    }
  },
  "cells": [
    {
      "cell_type": "code",
      "metadata": {
        "id": "umW4wAHd3FSF",
        "colab_type": "code",
        "outputId": "9e1d8e73-8130-43ab-e08d-e38301617950",
        "colab": {
          "base_uri": "https://localhost:8080/",
          "height": 127
        }
      },
      "source": [
        "from google.colab import drive\n",
        "drive.mount('/content/gdrive')"
      ],
      "execution_count": 1,
      "outputs": [
        {
          "output_type": "stream",
          "text": [
            "Go to this URL in a browser: https://accounts.google.com/o/oauth2/auth?client_id=947318989803-6bn6qk8qdgf4n4g3pfee6491hc0brc4i.apps.googleusercontent.com&redirect_uri=urn%3aietf%3awg%3aoauth%3a2.0%3aoob&response_type=code&scope=email%20https%3a%2f%2fwww.googleapis.com%2fauth%2fdocs.test%20https%3a%2f%2fwww.googleapis.com%2fauth%2fdrive%20https%3a%2f%2fwww.googleapis.com%2fauth%2fdrive.photos.readonly%20https%3a%2f%2fwww.googleapis.com%2fauth%2fpeopleapi.readonly\n",
            "\n",
            "Enter your authorization code:\n",
            "··········\n",
            "Mounted at /content/gdrive\n"
          ],
          "name": "stdout"
        }
      ]
    },
    {
      "cell_type": "code",
      "metadata": {
        "id": "gGW-XINb2By8",
        "colab_type": "code",
        "outputId": "906f4efb-a9fd-4777-d61f-b5a1998f347b",
        "colab": {
          "base_uri": "https://localhost:8080/",
          "height": 283
        }
      },
      "source": [
        "import os\n",
        "import pandas as pd\n",
        "import numpy as np\n",
        "from sklearn.cluster import KMeans\n",
        "import matplotlib.pyplot as plt\n",
        "os.chdir('/content/gdrive/My Drive/botlagunta/blood_profiling_code/new')\n",
        "df = pd.read_csv(\"combined.csv\")\n",
        "mr_no = df[\"MR_no\"]\n",
        "df3 = np.array(df)\n",
        "inter = df3[:,1:9] \n",
        "\n",
        "kmeans = KMeans(n_clusters=2, random_state=0).fit(inter)\n",
        "kmeans.cluster_centers_\n",
        "inter2 = list(kmeans.predict(inter))\n",
        "classA_strength = sum(inter2)\n",
        "classB_strength = len(inter2) - sum(inter2)\n",
        "print(classA_strength,classB_strength)\n",
        "\n",
        "x,y,z=plt.hist(inter2)"
      ],
      "execution_count": 3,
      "outputs": [
        {
          "output_type": "stream",
          "text": [
            "72 47\n"
          ],
          "name": "stdout"
        },
        {
          "output_type": "display_data",
          "data": {
            "image/png": "[encoded data removed]",
            "text/plain": [
              "<Figure size 432x288 with 1 Axes>"
            ]
          },
          "metadata": {
            "tags": []
          }
        }
      ]
    },
    {
      "cell_type": "code",
      "metadata": {
        "id": "xXym8_1A2m1Q",
        "colab_type": "code",
        "outputId": "52ff0a4d-6836-4bf1-da11-4a921e69bf86",
        "colab": {
          "base_uri": "https://localhost:8080/",
          "height": 265
        }
      },
      "source": [
        "from sklearn.decomposition import PCA\n",
        "pca = PCA(n_components=2)\n",
        "principalComponents = pca.fit_transform(inter)\n",
        "principalDf = pd.DataFrame(data = principalComponents\n",
        "             , columns = ['principal component 1', 'principal component 2'])\n",
        "x = principalDf[\"principal component 1\"]\n",
        "y = principalDf[\"principal component 2\"]\n",
        "x,y=list(x),list(y)\n",
        "plt.scatter(x,y)\n",
        "plt.show()"
      ],
      "execution_count": 4,
      "outputs": [
        {
          "output_type": "display_data",
          "data": {
            "image/png": "[encoded data removed]",
            "text/plain": [
              "<Figure size 432x288 with 1 Axes>"
            ]
          },
          "metadata": {
            "tags": []
          }
        }
      ]
    },
    {
      "cell_type": "code",
      "metadata": {
        "id": "adwF8Jqn2uw5",
        "colab_type": "code",
        "colab": {}
      },
      "source": [
        "df2 = pd.read_csv(\"mr_no_categorical.csv\")\n",
        "mr_meta=df2[\"Metastasis\"]\n",
        "inter3 = list(set(mr_meta))\n",
        "inter3 = inter3[1:]\n",
        "# for i in inter3:\n",
        "#  if str(i) == \"nan\":\n",
        "#     print(\"missed a no.\")\n",
        "mr_no = list(mr_no)\n",
        "metas = list(set(inter3).intersection(mr_no))\n",
        "label=[]\n",
        "for no in mr_no:\n",
        "  if no in metas:\n",
        "    label.append(1)\n",
        "  else:\n",
        "    label.append(0)\n",
        "df[\"label\"] = label\n",
        "# df.to_csv(\"complete.csv\")"
      ],
      "execution_count": 0,
      "outputs": []
    },
    {
      "cell_type": "code",
      "metadata": {
        "id": "ZAq9gcPe3qql",
        "colab_type": "code",
        "outputId": "1c64abb0-6fe4-400e-d5b5-50b78555b039",
        "colab": {
          "base_uri": "https://localhost:8080/",
          "height": 419
        }
      },
      "source": [
        "df"
      ],
      "execution_count": 6,
      "outputs": [
        {
          "output_type": "execute_result",
          "data": {
            "text/html": [
              "<div>\n",
              "<style scoped>\n",
              "    .dataframe tbody tr th:only-of-type {\n",
              "        vertical-align: middle;\n",
              "    }\n",
              "\n",
              "    .dataframe tbody tr th {\n",
              "        vertical-align: top;\n",
              "    }\n",
              "\n",
              "    .dataframe thead th {\n",
              "        text-align: right;\n",
              "    }\n",
              "</style>\n",
              "<table border=\"1\" class=\"dataframe\">\n",
              "  <thead>\n",
              "    <tr style=\"text-align: right;\">\n",
              "      <th></th>\n",
              "      <th>MR_no</th>\n",
              "      <th>Haemoglobin</th>\n",
              "      <th>Packed Cell Volume</th>\n",
              "      <th>Red Cell Count</th>\n",
              "      <th>WBC Count</th>\n",
              "      <th>No of Cell Counted</th>\n",
              "      <th>Neutrophils</th>\n",
              "      <th>Lymphocyte</th>\n",
              "      <th>Monocyte</th>\n",
              "      <th>label</th>\n",
              "    </tr>\n",
              "  </thead>\n",
              "  <tbody>\n",
              "    <tr>\n",
              "      <th>0</th>\n",
              "      <td>MR1701463</td>\n",
              "      <td>140</td>\n",
              "      <td>0.44</td>\n",
              "      <td>5.48</td>\n",
              "      <td>7.33</td>\n",
              "      <td>100</td>\n",
              "      <td>62</td>\n",
              "      <td>28</td>\n",
              "      <td>7</td>\n",
              "      <td>1</td>\n",
              "    </tr>\n",
              "    <tr>\n",
              "      <th>1</th>\n",
              "      <td>MR1704665</td>\n",
              "      <td>129</td>\n",
              "      <td>0.41</td>\n",
              "      <td>4.70</td>\n",
              "      <td>5.66</td>\n",
              "      <td>100</td>\n",
              "      <td>53</td>\n",
              "      <td>30</td>\n",
              "      <td>15</td>\n",
              "      <td>1</td>\n",
              "    </tr>\n",
              "    <tr>\n",
              "      <th>2</th>\n",
              "      <td>MR1704360</td>\n",
              "      <td>116</td>\n",
              "      <td>0.37</td>\n",
              "      <td>4.55</td>\n",
              "      <td>10.25</td>\n",
              "      <td>100</td>\n",
              "      <td>62</td>\n",
              "      <td>29</td>\n",
              "      <td>7</td>\n",
              "      <td>1</td>\n",
              "    </tr>\n",
              "    <tr>\n",
              "      <th>3</th>\n",
              "      <td>MR1703121</td>\n",
              "      <td>138</td>\n",
              "      <td>0.42</td>\n",
              "      <td>5.13</td>\n",
              "      <td>8.79</td>\n",
              "      <td>100</td>\n",
              "      <td>58</td>\n",
              "      <td>26</td>\n",
              "      <td>8</td>\n",
              "      <td>1</td>\n",
              "    </tr>\n",
              "    <tr>\n",
              "      <th>4</th>\n",
              "      <td>MR1705071</td>\n",
              "      <td>132</td>\n",
              "      <td>0.42</td>\n",
              "      <td>4.89</td>\n",
              "      <td>7.94</td>\n",
              "      <td>100</td>\n",
              "      <td>68</td>\n",
              "      <td>28</td>\n",
              "      <td>4</td>\n",
              "      <td>0</td>\n",
              "    </tr>\n",
              "    <tr>\n",
              "      <th>...</th>\n",
              "      <td>...</td>\n",
              "      <td>...</td>\n",
              "      <td>...</td>\n",
              "      <td>...</td>\n",
              "      <td>...</td>\n",
              "      <td>...</td>\n",
              "      <td>...</td>\n",
              "      <td>...</td>\n",
              "      <td>...</td>\n",
              "      <td>...</td>\n",
              "    </tr>\n",
              "    <tr>\n",
              "      <th>114</th>\n",
              "      <td>MR1801399</td>\n",
              "      <td>130</td>\n",
              "      <td>0.39</td>\n",
              "      <td>4.43</td>\n",
              "      <td>7.02</td>\n",
              "      <td>100</td>\n",
              "      <td>48</td>\n",
              "      <td>40</td>\n",
              "      <td>8</td>\n",
              "      <td>1</td>\n",
              "    </tr>\n",
              "    <tr>\n",
              "      <th>115</th>\n",
              "      <td>MR1800016</td>\n",
              "      <td>125</td>\n",
              "      <td>0.39</td>\n",
              "      <td>4.27</td>\n",
              "      <td>8.79</td>\n",
              "      <td>100</td>\n",
              "      <td>67</td>\n",
              "      <td>27</td>\n",
              "      <td>5</td>\n",
              "      <td>1</td>\n",
              "    </tr>\n",
              "    <tr>\n",
              "      <th>116</th>\n",
              "      <td>MR1801290</td>\n",
              "      <td>138</td>\n",
              "      <td>0.42</td>\n",
              "      <td>5.02</td>\n",
              "      <td>10.62</td>\n",
              "      <td>100</td>\n",
              "      <td>80</td>\n",
              "      <td>14</td>\n",
              "      <td>5</td>\n",
              "      <td>1</td>\n",
              "    </tr>\n",
              "    <tr>\n",
              "      <th>117</th>\n",
              "      <td>MR1800031</td>\n",
              "      <td>132</td>\n",
              "      <td>0.42</td>\n",
              "      <td>5.00</td>\n",
              "      <td>8.60</td>\n",
              "      <td>100</td>\n",
              "      <td>60</td>\n",
              "      <td>24</td>\n",
              "      <td>9</td>\n",
              "      <td>1</td>\n",
              "    </tr>\n",
              "    <tr>\n",
              "      <th>118</th>\n",
              "      <td>MR1801809</td>\n",
              "      <td>121</td>\n",
              "      <td>0.36</td>\n",
              "      <td>3.66</td>\n",
              "      <td>4.95</td>\n",
              "      <td>100</td>\n",
              "      <td>64</td>\n",
              "      <td>25</td>\n",
              "      <td>11</td>\n",
              "      <td>1</td>\n",
              "    </tr>\n",
              "  </tbody>\n",
              "</table>\n",
              "<p>119 rows × 10 columns</p>\n",
              "</div>"
            ],
            "text/plain": [
              "         MR_no  Haemoglobin  Packed Cell Volume  ...  Lymphocyte  Monocyte  label\n",
              "0    MR1701463          140                0.44  ...          28         7      1\n",
              "1    MR1704665          129                0.41  ...          30        15      1\n",
              "2    MR1704360          116                0.37  ...          29         7      1\n",
              "3    MR1703121          138                0.42  ...          26         8      1\n",
              "4    MR1705071          132                0.42  ...          28         4      0\n",
              "..         ...          ...                 ...  ...         ...       ...    ...\n",
              "114  MR1801399          130                0.39  ...          40         8      1\n",
              "115  MR1800016          125                0.39  ...          27         5      1\n",
              "116  MR1801290          138                0.42  ...          14         5      1\n",
              "117  MR1800031          132                0.42  ...          24         9      1\n",
              "118  MR1801809          121                0.36  ...          25        11      1\n",
              "\n",
              "[119 rows x 10 columns]"
            ]
          },
          "metadata": {
            "tags": []
          },
          "execution_count": 6
        }
      ]
    },
    {
      "cell_type": "code",
      "metadata": {
        "id": "bZ6iMMKr8mWT",
        "colab_type": "code",
        "colab": {}
      },
      "source": [
        "# normal range\n",
        "# Haemoglobin 120.0 - 150.0\n",
        "# Packed Cell Volume 0.36 - 0.46\n",
        "# Red Cell Count 3.8 - 4.8\n",
        "# WBC Count 4.0 - 10.0\n",
        "# Neutrophils 40.0 - 80.0\n",
        "# Lymphocyte 20.0 - 40.0\n",
        "# Monocyte 2.0 - 6.0"
      ],
      "execution_count": 0,
      "outputs": []
    },
    {
      "cell_type": "code",
      "metadata": {
        "id": "820z9yT03tOi",
        "colab_type": "code",
        "outputId": "014f7498-ba08-47a9-da29-df6e4418a2de",
        "colab": {
          "base_uri": "https://localhost:8080/",
          "height": 253
        }
      },
      "source": [
        "from sklearn.neighbors import KNeighborsClassifier\n",
        "from sklearn.metrics import classification_report\n",
        "import pandas as pd\n",
        "import numpy as np\n",
        "import random\n",
        "from sklearn.metrics import confusion_matrix\n",
        "df=pd.read_csv(\"complete.csv\")\n",
        "df[\"Haemoglobin\"] = round(df[\"Haemoglobin\"]/150.0,2)\n",
        "df[\"Neutrophils\"] = round(df[\"Neutrophils\"] /80, 2)\n",
        "df[\"Lymphocyte\"] = round(df[\"Lymphocyte\"]/40,2)\n",
        "df[\"Monocyte\"] = round(df[\"Monocyte\"]/6,2) \n",
        "df[\"No of Cell Counted\"] = round(df[\"No of Cell Counted\"]/100,2)\n",
        "# df=df.sample(frac=1)\n",
        "df_inter=df[[\"Haemoglobin\"\t,\"Packed Cell Volume\"\t,\"Red Cell Count\",\t\"WBC Count\",\t\"Neutrophils\"\t,\"Lymphocyte\",\t\"Monocyte\"]]\n",
        "Xfinal=np.array((df_inter))\n",
        "xfinal=[]\n",
        "for i in range(len(Xfinal)):\n",
        "    xfinal.append(list(Xfinal[i]))\n",
        "\n",
        "# print(len(xfinal),len(y))\n",
        "Y=df[\"label\"]\n",
        "Y=np.array(Y)\n",
        "Y=list(Y)\n",
        "# print(len(xfinal),len(Y))\n",
        "for i in range(80):\n",
        "  inter = [round(random.uniform(120.0 , 150.0)/150.0,2),round(random.uniform(0.36 ,0.46),2),round(random.uniform(3.8 ,4.8)/4.8,2),\n",
        "          round(random.uniform(4.0 , 10.0)/10.0,2),round(random.uniform(40.0 , 80.0)/80.0,2),round(random.uniform(20.0 , 40.0)/40.0,2),\n",
        "          round(random.uniform(2.0 , 6.0),2)]\n",
        "  xfinal.append(inter)\n",
        "  Y.append(0)\n",
        "# print(len(Xfinal))\n",
        "# print(len(xfinal),len(Y))\n",
        "\n",
        "df_inter = pd.DataFrame(xfinal)\n",
        "df_inter[\"label\"] = Y\n",
        "df_inter=df_inter.sample(frac=1)\n",
        "# print(df_inter)\n",
        "xfinal = np.array(df_inter)\n",
        "Xfinal = xfinal[1:,:7]\n",
        "Y = xfinal[1:,7:8]\n",
        "# Y = []\n",
        " \n",
        "# print(len(Xfinal),len(Y))\n",
        "# print(df_inter)\n",
        "# print(len(Xfinal))\n",
        "split_factor=int(len(Y)*.7)\n",
        "X_Train=np.array(Xfinal)[:split_factor]\n",
        "Y_Train=Y[:split_factor]\n",
        "X_Test=Xfinal[split_factor:]\n",
        "Y_Test=Y[split_factor:]\n",
        "\n",
        "neigh = KNeighborsClassifier(n_neighbors=2)\n",
        "neigh.fit(X_Train,Y_Train)\n",
        "Y_Predicted=neigh.predict(X_Test)\n",
        "Y_Predicted=list(Y_Predicted)\n",
        "Y_Test=list(Y_Test)\n",
        "counter=0\n",
        "for i in range (len(Y_Predicted)):\n",
        "    if (Y_Predicted[i]==Y_Test[i]):\n",
        "        counter=counter+1\n",
        "accuracy=counter/len(Y_Predicted)\n",
        "print(classification_report(Y_Test, Y_Predicted))\n",
        "print(confusion_matrix(Y_Test, Y_Predicted))\n"
      ],
      "execution_count": 23,
      "outputs": [
        {
          "output_type": "stream",
          "text": [
            "              precision    recall  f1-score   support\n",
            "\n",
            "         0.0       0.85      0.85      0.85        33\n",
            "         1.0       0.81      0.81      0.81        27\n",
            "\n",
            "    accuracy                           0.83        60\n",
            "   macro avg       0.83      0.83      0.83        60\n",
            "weighted avg       0.83      0.83      0.83        60\n",
            "\n",
            "[[28  5]\n",
            " [ 5 22]]\n"
          ],
          "name": "stdout"
        },
        {
          "output_type": "stream",
          "text": [
            "/usr/local/lib/python3.6/dist-packages/ipykernel_launcher.py:53: DataConversionWarning: A column-vector y was passed when a 1d array was expected. Please change the shape of y to (n_samples, ), for example using ravel().\n"
          ],
          "name": "stderr"
        }
      ]
    },
    {
      "cell_type": "code",
      "metadata": {
        "colab_type": "code",
        "outputId": "aa7f8978-1811-4d25-9d75-7e6e91459c80",
        "id": "BYIOJd354H5U",
        "colab": {
          "base_uri": "https://localhost:8080/",
          "height": 266
        }
      },
      "source": [
        "from sklearn.decomposition import PCA\n",
        "pca = PCA(n_components=2)\n",
        "principalComponents = pca.fit_transform(xfinal[1:,:7])\n",
        "principalDf = pd.DataFrame(data = principalComponents\n",
        "             , columns = ['principal component 1', 'principal component 2'])\n",
        "x = principalDf[\"principal component 1\"]\n",
        "y = principalDf[\"principal component 2\"]\n",
        "x,y=list(x),list(y)\n",
        "plt.scatter(x,y)\n",
        "plt.show()"
      ],
      "execution_count": 24,
      "outputs": [
        {
          "output_type": "display_data",
          "data": {
            "image/png": "[encoded data removed]",
            "text/plain": [
              "<Figure size 432x288 with 1 Axes>"
            ]
          },
          "metadata": {
            "tags": []
          }
        }
      ]
    }
  ]
}